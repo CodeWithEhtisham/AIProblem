{
 "cells": [
  {
   "cell_type": "code",
   "execution_count": 4,
   "metadata": {},
   "outputs": [],
   "source": [
    "import os\n",
    "import sys\n",
    "from collections import deque\n"
   ]
  },
  {
   "cell_type": "code",
   "execution_count": 87,
   "metadata": {},
   "outputs": [],
   "source": [
    "dict_graph = {}\n",
    "\n",
    "\n",
    "# Read the data.txt file\n",
    "with open('city.txt', 'r') as f:\n",
    "    for l in f:\n",
    "        city_a, city_b, p_cost = l.split(',')\n",
    "        if city_a not in dict_graph:\n",
    "            dict_graph[city_a] = {}\n",
    "        dict_graph[city_a][city_b] = int(p_cost)\n",
    "        if city_b not in dict_graph:\n",
    "            dict_graph[city_b] = {}\n",
    "        dict_graph[city_b][city_a] = int(p_cost)"
   ]
  },
  {
   "cell_type": "code",
   "execution_count": 44,
   "metadata": {},
   "outputs": [
    {
     "name": "stdout",
     "output_type": "stream",
     "text": [
      "{'Riyadh_Alkabra': {'Alkhabra': 7, 'Alrass': 20}, 'Alkhabra': {'Riyadh_Alkabra': 7, 'Badaiya': 10, 'Bukairiah': 9}, 'Alrass': {'Riyadh_Alkabra': 20, 'Badaiya': 15, 'Alqurain': 21}, 'Badaiya': {'Alkhabra': 10, 'Alrass': 15, 'Onaizah': 25}, 'Bukairiah': {'Alkhabra': 9, 'Mulida': 18}, 'Mulida': {'Bukairiah': 18, 'Buriydah': 16}, 'Buriydah': {'Mulida': 16, 'Onaizah': 32, 'Dolaimiah': 85}, 'Onaizah': {'Badaiya': 25, 'Buriydah': 32}, 'Alqurain': {'Alrass': 21, 'Dolaimiah': 10}, 'Dolaimiah': {'Alqurain': 10, 'Buriydah': 85}}\n"
     ]
    }
   ],
   "source": [
    "print(dict_graph)"
   ]
  },
  {
   "cell_type": "markdown",
   "metadata": {},
   "source": [
    "# Uniformed search algorithms :"
   ]
  },
  {
   "cell_type": "markdown",
   "metadata": {},
   "source": [
    "# - Depth First Search(DFS) algorithm."
   ]
  },
  {
   "cell_type": "code",
   "execution_count": 48,
   "metadata": {},
   "outputs": [],
   "source": [
    "# Depth First Search Method\n",
    "def DepthFirstSearch(graph, src, dst):\n",
    "    stack = [(src, [src], 0)]\n",
    "    visited = {src}\n",
    "    while stack:\n",
    "        (node, path, cost) = stack.pop()\n",
    "        for temp in graph[node].keys():\n",
    "            if temp == dst:\n",
    "                return path + [temp], cost + graph[node][temp]\n",
    "            else:\n",
    "                if temp not in visited:\n",
    "                    visited.add(temp)\n",
    "                    stack.append((temp, path + [temp], cost + graph[node][temp]))"
   ]
  },
  {
   "cell_type": "markdown",
   "metadata": {},
   "source": [
    "# Breadth First Search(BFS) algorithm."
   ]
  },
  {
   "cell_type": "code",
   "execution_count": 47,
   "metadata": {},
   "outputs": [],
   "source": [
    "# Breadth First Search Method\n",
    "def BreadthFirstSearch(graph, src, dst):\n",
    "    q = [(src, [src], 0)]\n",
    "    visited = {src}\n",
    "    while q:\n",
    "        (node, path, cost) = q.pop(0)\n",
    "        for temp in graph[node].keys():\n",
    "            if temp == dst:\n",
    "                return path + [temp], cost + graph[node][temp]\n",
    "            else:\n",
    "                if temp not in visited:\n",
    "                    visited.add(temp)\n",
    "                    q.append((temp, path + [temp], cost + graph[node][temp]))"
   ]
  },
  {
   "cell_type": "markdown",
   "metadata": {},
   "source": [
    "# Iterative deepening search algorithm."
   ]
  },
  {
   "cell_type": "code",
   "execution_count": 49,
   "metadata": {},
   "outputs": [],
   "source": [
    "# Iterative Deepening Search Method\n",
    "def IterativeDeepening(graph, src, dst):\n",
    "    level = 0\n",
    "    count = 0\n",
    "    stack = [(src, [src], 0)]\n",
    "    visited = {src}\n",
    "    while True:\n",
    "        level += 1\n",
    "        while stack:\n",
    "            if count <= level:\n",
    "                count = 0\n",
    "                (node, path, cost) = stack.pop()\n",
    "                for temp in graph[node].keys():\n",
    "                    if temp == dst:\n",
    "                        return path + [temp], cost + graph[node][temp]\n",
    "                    else:\n",
    "                        if temp not in visited:\n",
    "                            visited.add(temp)\n",
    "                            count += 1\n",
    "                            stack.append((temp, path + [temp], cost + graph[node][temp]))\n",
    "            else:\n",
    "                q = stack\n",
    "                visited_bfs = {src}\n",
    "                while q:\n",
    "                    (node, path, cost) = q.pop(0)\n",
    "                    for temp in graph[node].keys():\n",
    "                        if temp == dst:\n",
    "                            return path + [temp], cost + graph[node][temp]\n",
    "                        else:\n",
    "                            if temp not in visited_bfs:\n",
    "                                visited_bfs.add(temp)\n",
    "                                q.append((temp, path + [temp], cost + graph[node][temp]))\n",
    "                break"
   ]
  },
  {
   "cell_type": "markdown",
   "metadata": {},
   "source": [
    "# Depth limited search algorithm."
   ]
  },
  {
   "cell_type": "code",
   "execution_count": 56,
   "metadata": {},
   "outputs": [],
   "source": [
    "# Depth Limited Search Method\n",
    "def DepthLimitedSearch(graph, src, dst,maxlenght):\n",
    "    if src == dst : return True\n",
    "    # If reached the maximum depth, stop recursing.\n",
    "    if maxlenght <= 0 : return False\n",
    "    stack = [(src, [src], 0)]\n",
    "    visited = {src}\n",
    "    while stack:\n",
    "        (node, path, cost) = stack.pop()\n",
    "        for lenght,temp in enumerate(graph[node].keys()):\n",
    "            if lenght==maxlenght: break\n",
    "            if temp == dst:\n",
    "                return path + [temp], cost + graph[node][temp]\n",
    "            else:\n",
    "                if temp not in visited:\n",
    "                    visited.add(temp)\n",
    "                    stack.append((temp, path + [temp], cost + graph[node][temp]))"
   ]
  },
  {
   "cell_type": "code",
   "execution_count": 88,
   "metadata": {},
   "outputs": [
    {
     "name": "stdout",
     "output_type": "stream",
     "text": [
      "#### From Riyadh_Alkabra To  Buriydah\n",
      "Depth First Search:  (['Riyadh_Alkabra', 'Alrass', 'Alqurain', 'Dolaimiah', 'Buriydah'], 136)\n",
      "Breadth First Search:  (['Riyadh_Alkabra', 'Alkhabra', 'Badaiya', 'Onaizah', 'Buriydah'], 74)\n",
      "IterativeDeepening Search:  (['Riyadh_Alkabra', 'Alkhabra', 'Badaiya', 'Onaizah', 'Buriydah'], 74)\n",
      "Depth Limited Search:  None\n"
     ]
    }
   ],
   "source": [
    "start='Riyadh_Alkabra'\n",
    "end='Buriydah'\n",
    "print(\"#### From Riyadh_Alkabra To  Buriydah\")\n",
    "print (\"Depth First Search: \",DepthFirstSearch(dict_graph, start, end))\n",
    "print(\"Breadth First Search: \",BreadthFirstSearch(dict_graph, start,end))\n",
    "print (\"IterativeDeepening Search: \",IterativeDeepening(dict_graph, start, end))\n",
    "print (\"Depth Limited Search: \",DepthLimitedSearch(dict_graph, start, end,1))"
   ]
  },
  {
   "cell_type": "code",
   "execution_count": 89,
   "metadata": {},
   "outputs": [
    {
     "name": "stdout",
     "output_type": "stream",
     "text": [
      "#### From Badaiya To  Buriydah\n",
      "Depth First Search:  (['Badaiya', 'Onaizah', 'Buriydah'], 57)\n",
      "Breadth First Search:  (['Badaiya', 'Onaizah', 'Buriydah'], 57)\n",
      "IterativeDeepening Search:  (['Badaiya', 'Onaizah', 'Buriydah'], 57)\n",
      "Depth Limited Search:  None\n"
     ]
    }
   ],
   "source": [
    "start='Badaiya'\n",
    "end='Buriydah'\n",
    "print(\"#### From Badaiya To  Buriydah\")\n",
    "print (\"Depth First Search: \",DepthFirstSearch(dict_graph, start, end))\n",
    "print(\"Breadth First Search: \",BreadthFirstSearch(dict_graph, start,end))\n",
    "print (\"IterativeDeepening Search: \",IterativeDeepening(dict_graph, start, end))\n",
    "print (\"Depth Limited Search: \",DepthLimitedSearch(dict_graph, start, end,1))"
   ]
  },
  {
   "cell_type": "markdown",
   "metadata": {},
   "source": [
    "# Informed search algorithm: Greedy Search"
   ]
  },
  {
   "cell_type": "code",
   "execution_count": 90,
   "metadata": {},
   "outputs": [],
   "source": [
    "def GreedySearch(GRAPH,source, destination):\n",
    "    # HERE THE STRAIGHT LINE DISTANCE VALUES ARE IN REFERENCE \n",
    "    straight_line = {\\\n",
    "                        'Riyadh_Alkabra': 150,\\\n",
    "                        'Alkhabra': 374,\\\n",
    "                        'Bukairiah': 380,\\\n",
    "                        'Mulida': 253,\\\n",
    "                        'Badaiya': 329,\\\n",
    "                        'Onaizah': 244,\\\n",
    "                        'Buriydah': 241,\\\n",
    "                        'Alrass': 242,\\\n",
    "                        'Alqurain': 160,\\\n",
    "                        'Dolaimiah': 193,\n",
    "                    }\n",
    "    from queue import PriorityQueue\n",
    "    priority_queue, visited = PriorityQueue(), {}\n",
    "    priority_queue.put((straight_line[source], 0, source, [source]))\n",
    "    visited[source] = straight_line[source]\n",
    "    while not priority_queue.empty():\n",
    "        (heuristic, cost, vertex, path) = priority_queue.get()\n",
    "        if vertex == destination:\n",
    "            return path,cost\n",
    "        for next_node in GRAPH[vertex].keys():\n",
    "            current_cost = cost + GRAPH[vertex][next_node]\n",
    "            heuristic = current_cost + straight_line[next_node]\n",
    "            if not next_node in visited or visited[next_node] >= heuristic:\n",
    "                visited[next_node] = heuristic\n",
    "                priority_queue.put((heuristic, current_cost, next_node, path + [next_node]))"
   ]
  },
  {
   "cell_type": "code",
   "execution_count": 86,
   "metadata": {},
   "outputs": [
    {
     "name": "stdout",
     "output_type": "stream",
     "text": [
      "(['Riyadh_Alkabra', 'Alrass', 'Badaiya', 'Onaizah', 'Buriydah'], 92)\n"
     ]
    }
   ],
   "source": [
    "print (GreedySearch(dict_graph, start, end))"
   ]
  },
  {
   "cell_type": "code",
   "execution_count": 91,
   "metadata": {},
   "outputs": [
    {
     "name": "stdout",
     "output_type": "stream",
     "text": [
      "(['Badaiya', 'Onaizah', 'Buriydah'], 57)\n"
     ]
    }
   ],
   "source": [
    "print (GreedySearch(dict_graph, start, end))"
   ]
  },
  {
   "cell_type": "code",
   "execution_count": null,
   "metadata": {},
   "outputs": [],
   "source": []
  }
 ],
 "metadata": {
  "kernelspec": {
   "display_name": "Python 3",
   "language": "python",
   "name": "python3"
  },
  "language_info": {
   "codemirror_mode": {
    "name": "ipython",
    "version": 3
   },
   "file_extension": ".py",
   "mimetype": "text/x-python",
   "name": "python",
   "nbconvert_exporter": "python",
   "pygments_lexer": "ipython3",
   "version": "3.8.10"
  }
 },
 "nbformat": 4,
 "nbformat_minor": 4
}
